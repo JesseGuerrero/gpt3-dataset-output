{
 "cells": [
  {
   "cell_type": "code",
   "execution_count": 1,
   "metadata": {
    "collapsed": true
   },
   "outputs": [
    {
     "data": {
      "text/plain": "                                                Title  Characters  \\\n0                               São Bernardo (parish)         282   \n1                                     Lilian Franklin        2275   \n2                                 Nebria coloradensis         119   \n3      St. Anselm's Pink City Sr. Sec. School, Jaipur        4024   \n4                              Paul Burris (baseball)        1805   \n...                                               ...         ...   \n79427                            Charles Vyner Brooke        4589   \n79428                                    Simply Music        8717   \n79429             Circumstantial Evidence (1952 film)         739   \n79430                                   Ueno Tōshō-gū        3876   \n79431                                  Kenneth Melani        5257   \n\n                                                PageLink  \\\n0      https://en.wikipedia.org/wiki/S%C3%A3o_Bernard...   \n1        https://en.wikipedia.org/wiki/Lilian_Franklin\\n   \n2      https://en.wikipedia.org/wiki/Nebria_coloraden...   \n3      https://en.wikipedia.org/wiki/St._Anselm%27s_P...   \n4      https://en.wikipedia.org/wiki/Paul_Burris_(bas...   \n...                                                  ...   \n79427  https://en.wikipedia.org/wiki/Charles_Vyner_Br...   \n79428       https://en.wikipedia.org/wiki/Simply_Music\\n   \n79429  https://en.wikipedia.org/wiki/Circumstantial_E...   \n79430  https://en.wikipedia.org/wiki/Ueno_T%C5%8Dsh%C...   \n79431     https://en.wikipedia.org/wiki/Kenneth_Melani\\n   \n\n                                                 Article  \\\n0      São Bernardo is a civil parish in Aveiro Munic...   \n1      \\n Lilian Annie Margueretta Franklin OBE (1882...   \n2      \\n Nebria coloradensis is a species of ground ...   \n3      \\n St. Anselm's Sr. Sec. School, Mansarovar, J...   \n4      Paul Robert Burris (July 21, 1923 – October 3,...   \n...                                                  ...   \n79427  \\n Vyner, Rajah of Sarawak, GCMG, full name Ch...   \n79428  \\n Simply Music is a music education organizat...   \n79429  \\n Circumstantial Evidence  is a 1952 British ...   \n79430  Ueno Tōshō-gū (上野東照宮) is a Tōshō-gū Shinto shr...   \n79431  Kenneth R. Melani is the former president and ...   \n\n                         Date  \n0     2023-01-26 13:29:24.312  \n1     2023-01-26 13:29:24.312  \n2     2023-01-26 13:29:24.312  \n3     2023-01-26 13:29:24.312  \n4     2023-01-26 13:29:24.312  \n...                       ...  \n79427 2023-01-26 20:22:00.528  \n79428 2023-01-26 20:22:00.528  \n79429 2023-01-26 20:22:00.528  \n79430 2023-01-26 20:22:00.528  \n79431 2023-01-26 20:22:00.528  \n\n[79432 rows x 5 columns]",
      "text/html": "<div>\n<style scoped>\n    .dataframe tbody tr th:only-of-type {\n        vertical-align: middle;\n    }\n\n    .dataframe tbody tr th {\n        vertical-align: top;\n    }\n\n    .dataframe thead th {\n        text-align: right;\n    }\n</style>\n<table border=\"1\" class=\"dataframe\">\n  <thead>\n    <tr style=\"text-align: right;\">\n      <th></th>\n      <th>Title</th>\n      <th>Characters</th>\n      <th>PageLink</th>\n      <th>Article</th>\n      <th>Date</th>\n    </tr>\n  </thead>\n  <tbody>\n    <tr>\n      <th>0</th>\n      <td>São Bernardo (parish)</td>\n      <td>282</td>\n      <td>https://en.wikipedia.org/wiki/S%C3%A3o_Bernard...</td>\n      <td>São Bernardo is a civil parish in Aveiro Munic...</td>\n      <td>2023-01-26 13:29:24.312</td>\n    </tr>\n    <tr>\n      <th>1</th>\n      <td>Lilian Franklin</td>\n      <td>2275</td>\n      <td>https://en.wikipedia.org/wiki/Lilian_Franklin\\n</td>\n      <td>\\n Lilian Annie Margueretta Franklin OBE (1882...</td>\n      <td>2023-01-26 13:29:24.312</td>\n    </tr>\n    <tr>\n      <th>2</th>\n      <td>Nebria coloradensis</td>\n      <td>119</td>\n      <td>https://en.wikipedia.org/wiki/Nebria_coloraden...</td>\n      <td>\\n Nebria coloradensis is a species of ground ...</td>\n      <td>2023-01-26 13:29:24.312</td>\n    </tr>\n    <tr>\n      <th>3</th>\n      <td>St. Anselm's Pink City Sr. Sec. School, Jaipur</td>\n      <td>4024</td>\n      <td>https://en.wikipedia.org/wiki/St._Anselm%27s_P...</td>\n      <td>\\n St. Anselm's Sr. Sec. School, Mansarovar, J...</td>\n      <td>2023-01-26 13:29:24.312</td>\n    </tr>\n    <tr>\n      <th>4</th>\n      <td>Paul Burris (baseball)</td>\n      <td>1805</td>\n      <td>https://en.wikipedia.org/wiki/Paul_Burris_(bas...</td>\n      <td>Paul Robert Burris (July 21, 1923 – October 3,...</td>\n      <td>2023-01-26 13:29:24.312</td>\n    </tr>\n    <tr>\n      <th>...</th>\n      <td>...</td>\n      <td>...</td>\n      <td>...</td>\n      <td>...</td>\n      <td>...</td>\n    </tr>\n    <tr>\n      <th>79427</th>\n      <td>Charles Vyner Brooke</td>\n      <td>4589</td>\n      <td>https://en.wikipedia.org/wiki/Charles_Vyner_Br...</td>\n      <td>\\n Vyner, Rajah of Sarawak, GCMG, full name Ch...</td>\n      <td>2023-01-26 20:22:00.528</td>\n    </tr>\n    <tr>\n      <th>79428</th>\n      <td>Simply Music</td>\n      <td>8717</td>\n      <td>https://en.wikipedia.org/wiki/Simply_Music\\n</td>\n      <td>\\n Simply Music is a music education organizat...</td>\n      <td>2023-01-26 20:22:00.528</td>\n    </tr>\n    <tr>\n      <th>79429</th>\n      <td>Circumstantial Evidence (1952 film)</td>\n      <td>739</td>\n      <td>https://en.wikipedia.org/wiki/Circumstantial_E...</td>\n      <td>\\n Circumstantial Evidence  is a 1952 British ...</td>\n      <td>2023-01-26 20:22:00.528</td>\n    </tr>\n    <tr>\n      <th>79430</th>\n      <td>Ueno Tōshō-gū</td>\n      <td>3876</td>\n      <td>https://en.wikipedia.org/wiki/Ueno_T%C5%8Dsh%C...</td>\n      <td>Ueno Tōshō-gū (上野東照宮) is a Tōshō-gū Shinto shr...</td>\n      <td>2023-01-26 20:22:00.528</td>\n    </tr>\n    <tr>\n      <th>79431</th>\n      <td>Kenneth Melani</td>\n      <td>5257</td>\n      <td>https://en.wikipedia.org/wiki/Kenneth_Melani\\n</td>\n      <td>Kenneth R. Melani is the former president and ...</td>\n      <td>2023-01-26 20:22:00.528</td>\n    </tr>\n  </tbody>\n</table>\n<p>79432 rows × 5 columns</p>\n</div>"
     },
     "execution_count": 1,
     "metadata": {},
     "output_type": "execute_result"
    }
   ],
   "source": [
    "import pandas as pd\n",
    "articles = pd.read_excel('articles.xlsx')\n",
    "articles"
   ]
  },
  {
   "cell_type": "code",
   "execution_count": 1,
   "outputs": [],
   "source": [],
   "metadata": {
    "collapsed": false
   }
  },
  {
   "cell_type": "code",
   "execution_count": 4,
   "outputs": [],
   "source": [
    "titles = articles['Title'].tolist()\n",
    "texts = articles['Article'].tolist()\n",
    "for i in range(len(texts)):\n",
    "    texts[i] = str(texts[i])[:512]\n",
    "\n"
   ],
   "metadata": {
    "collapsed": false
   }
  },
  {
   "cell_type": "code",
   "execution_count": 9,
   "outputs": [],
   "source": [
    "out = {}\n",
    "for i, title in enumerate(titles):\n",
    "    out[title] = [texts[i]]\n",
    "\n",
    "import json\n",
    "with open(\"WikiHuman.json\", \"w\") as outfile:\n",
    "    json.dump(out, outfile)"
   ],
   "metadata": {
    "collapsed": false
   }
  },
  {
   "cell_type": "code",
   "execution_count": 7,
   "outputs": [],
   "source": [
    "sample = {}\n",
    "for i, title in enumerate(titles[:50]):\n",
    "    sample[title] = [texts[i]]\n",
    "\n",
    "import json\n",
    "with open(\"WikiHumanSample.json\", \"w\") as outfile:\n",
    "    json.dump(sample, outfile)"
   ],
   "metadata": {
    "collapsed": false
   }
  },
  {
   "cell_type": "code",
   "execution_count": null,
   "outputs": [],
   "source": [],
   "metadata": {
    "collapsed": false
   }
  }
 ],
 "metadata": {
  "kernelspec": {
   "display_name": "Python 3",
   "language": "python",
   "name": "python3"
  },
  "language_info": {
   "codemirror_mode": {
    "name": "ipython",
    "version": 2
   },
   "file_extension": ".py",
   "mimetype": "text/x-python",
   "name": "python",
   "nbconvert_exporter": "python",
   "pygments_lexer": "ipython2",
   "version": "2.7.6"
  }
 },
 "nbformat": 4,
 "nbformat_minor": 0
}

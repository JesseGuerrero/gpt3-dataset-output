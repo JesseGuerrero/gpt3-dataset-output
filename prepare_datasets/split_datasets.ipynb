{
 "cells": [
  {
   "cell_type": "code",
   "execution_count": 2,
   "metadata": {
    "collapsed": true
   },
   "outputs": [
    {
     "name": "stdout",
     "output_type": "stream",
     "text": [
      "55602\n",
      "67517\n",
      "79432\n"
     ]
    }
   ],
   "source": [
    "import json, random\n",
    "data = {}\n",
    "file_name = \"WikiSynthetic\"\n",
    "with open(f'./{file_name}.json', \"r\") as f:\n",
    "    data = dict(json.load(f))\n",
    "\n",
    "keys = list(data.keys())\n",
    "random.shuffle(keys)\n",
    "seventyPercent = int(len(keys)*0.7)\n",
    "quarterSeventyPercent = int(seventyPercent*0.25)\n",
    "eightyfivePercent = int(len(keys)*0.85)\n",
    "hundredPercent = len(keys)\n",
    "print(seventyPercent)\n",
    "print(eightyfivePercent)\n",
    "print(hundredPercent)\n",
    "\n",
    "out = {}\n",
    "for key in keys[:seventyPercent]:\n",
    "    out[key] = data[key]#Train set\n",
    "with open(f'Train_{file_name}.json', \"w\") as outfile:\n",
    "    json.dump(out, outfile)\n",
    "\n",
    "out = {}\n",
    "for key in keys[:quarterSeventyPercent]:\n",
    "    out[key] = data[key]#Train set\n",
    "with open(f'Train_{file_name}QuarterSet.json', \"w\") as outfile:\n",
    "    json.dump(out, outfile)\n",
    "\n",
    "out = {}\n",
    "for key in keys[seventyPercent:eightyfivePercent]:\n",
    "    out[key] = data[key]#Validation set\n",
    "    # print(key)\n",
    "\n",
    "with open(f'Val_{file_name}.json', \"w\") as outfile:\n",
    "    json.dump(out, outfile)\n",
    "\n",
    "out = {}\n",
    "for key in keys[eightyfivePercent:hundredPercent]:\n",
    "    out[key] = data[key]#Test set\n",
    "with open(f'Test_{file_name}.json', \"w\") as outfile:\n",
    "    json.dump(out, outfile)\n"
   ]
  },
  {
   "cell_type": "code",
   "execution_count": 1,
   "outputs": [],
   "source": [],
   "metadata": {
    "collapsed": false
   }
  }
 ],
 "metadata": {
  "kernelspec": {
   "display_name": "Python 3",
   "language": "python",
   "name": "python3"
  },
  "language_info": {
   "codemirror_mode": {
    "name": "ipython",
    "version": 2
   },
   "file_extension": ".py",
   "mimetype": "text/x-python",
   "name": "python",
   "nbconvert_exporter": "python",
   "pygments_lexer": "ipython2",
   "version": "2.7.6"
  }
 },
 "nbformat": 4,
 "nbformat_minor": 0
}
